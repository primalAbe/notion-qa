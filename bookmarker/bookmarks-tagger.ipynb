{
 "cells": [
  {
   "attachments": {},
   "cell_type": "markdown",
   "metadata": {},
   "source": [
    "Converts the html file to json"
   ]
  },
  {
   "cell_type": "code",
   "execution_count": 2,
   "metadata": {},
   "outputs": [],
   "source": [
    "import json\n",
    "from bs4 import BeautifulSoup\n",
    "\n",
    "path = \"./bookmarks.html\"\n",
    "\n",
    "with open(path, 'r', encoding='utf-8') as f:\n",
    "        html = f.read()\n",
    "\n",
    "# Parse the HTML\n",
    "soup = BeautifulSoup(html, 'html.parser')\n",
    "\n",
    "# Find all anchor tags\n",
    "anchors = soup.find_all('a')\n",
    "\n",
    "# Create a dictionary to store the anchor text and href\n",
    "result = {}\n",
    "for anchor in anchors:\n",
    "    texts = anchor.text\n",
    "    href = anchor['href']\n",
    "    result[texts] = href\n",
    "\n",
    "# Convert the dictionary to JSON\n",
    "json_data = json.dumps(result, indent=4)\n",
    "\n",
    "# write the JSON data\n",
    "# with open('./bookmarks.json', 'w') as f:\n",
    "#         f.write(json_data)\n",
    "\n",
    "#  remove all data.values that don't start with http or https\n",
    "data = {key:val for key, val in result.items() if val.startswith('http')}\n"
   ]
  },
  {
   "attachments": {},
   "cell_type": "markdown",
   "metadata": {},
   "source": [
    "Langchain code "
   ]
  },
  {
   "cell_type": "code",
   "execution_count": 3,
   "metadata": {},
   "outputs": [],
   "source": [
    "import os\n",
    "os.environ[\"OPENAI_API_KEY\"] = '[OPENAI_API_KEY]'"
   ]
  },
  {
   "cell_type": "code",
   "execution_count": 4,
   "metadata": {},
   "outputs": [],
   "source": [
    "from url_playwright_async import PlaywrightURLLoaderAsync\n",
    "urls = list(data.values())\n",
    "loader = PlaywrightURLLoaderAsync(urls=urls[:5])\n",
    "documents = await loader.load()"
   ]
  },
  {
   "cell_type": "code",
   "execution_count": 5,
   "metadata": {},
   "outputs": [],
   "source": [
    "from langchain.text_splitter import CharacterTextSplitter\n",
    "text_splitter = CharacterTextSplitter.from_tiktoken_encoder(chunk_size=500, chunk_overlap=0)\n",
    "texts = text_splitter.split_documents(documents)"
   ]
  },
  {
   "cell_type": "code",
   "execution_count": 6,
   "metadata": {},
   "outputs": [
    {
     "ename": "ImportError",
     "evalue": "cannot import name 'deprecate_ndim_indexing' from 'pandas.core.indexers' (c:\\Users\\af_is\\miniconda3\\envs\\langchain\\lib\\site-packages\\pandas\\core\\indexers\\__init__.py)",
     "output_type": "error",
     "traceback": [
      "\u001b[1;31m---------------------------------------------------------------------------\u001b[0m",
      "\u001b[1;31mImportError\u001b[0m                               Traceback (most recent call last)",
      "Cell \u001b[1;32mIn[6], line 4\u001b[0m\n\u001b[0;32m      2\u001b[0m \u001b[39mfrom\u001b[39;00m \u001b[39mlangchain\u001b[39;00m\u001b[39m.\u001b[39;00m\u001b[39mvectorstores\u001b[39;00m \u001b[39mimport\u001b[39;00m Chroma\n\u001b[0;32m      3\u001b[0m embeddings \u001b[39m=\u001b[39m OpenAIEmbeddings()\n\u001b[1;32m----> 4\u001b[0m vectorstore \u001b[39m=\u001b[39m Chroma\u001b[39m.\u001b[39;49mfrom_texts(texts \u001b[39m=\u001b[39;49m texts, embedding\u001b[39m=\u001b[39;49membeddings)\n",
      "File \u001b[1;32mc:\\Users\\af_is\\miniconda3\\envs\\langchain\\lib\\site-packages\\langchain\\vectorstores\\chroma.py:374\u001b[0m, in \u001b[0;36mChroma.from_texts\u001b[1;34m(cls, texts, embedding, metadatas, ids, collection_name, persist_directory, client_settings, client, **kwargs)\u001b[0m\n\u001b[0;32m    344\u001b[0m \u001b[39m@classmethod\u001b[39m\n\u001b[0;32m    345\u001b[0m \u001b[39mdef\u001b[39;00m \u001b[39mfrom_texts\u001b[39m(\n\u001b[0;32m    346\u001b[0m     \u001b[39mcls\u001b[39m: Type[Chroma],\n\u001b[1;32m   (...)\u001b[0m\n\u001b[0;32m    355\u001b[0m     \u001b[39m*\u001b[39m\u001b[39m*\u001b[39mkwargs: Any,\n\u001b[0;32m    356\u001b[0m ) \u001b[39m-\u001b[39m\u001b[39m>\u001b[39m Chroma:\n\u001b[0;32m    357\u001b[0m \u001b[39m    \u001b[39m\u001b[39m\"\"\"Create a Chroma vectorstore from a raw documents.\u001b[39;00m\n\u001b[0;32m    358\u001b[0m \n\u001b[0;32m    359\u001b[0m \u001b[39m    If a persist_directory is specified, the collection will be persisted there.\u001b[39;00m\n\u001b[1;32m   (...)\u001b[0m\n\u001b[0;32m    372\u001b[0m \u001b[39m        Chroma: Chroma vectorstore.\u001b[39;00m\n\u001b[0;32m    373\u001b[0m \u001b[39m    \"\"\"\u001b[39;00m\n\u001b[1;32m--> 374\u001b[0m     chroma_collection \u001b[39m=\u001b[39m \u001b[39mcls\u001b[39;49m(\n\u001b[0;32m    375\u001b[0m         collection_name\u001b[39m=\u001b[39;49mcollection_name,\n\u001b[0;32m    376\u001b[0m         embedding_function\u001b[39m=\u001b[39;49membedding,\n\u001b[0;32m    377\u001b[0m         persist_directory\u001b[39m=\u001b[39;49mpersist_directory,\n\u001b[0;32m    378\u001b[0m         client_settings\u001b[39m=\u001b[39;49mclient_settings,\n\u001b[0;32m    379\u001b[0m         client\u001b[39m=\u001b[39;49mclient,\n\u001b[0;32m    380\u001b[0m     )\n\u001b[0;32m    381\u001b[0m     chroma_collection\u001b[39m.\u001b[39madd_texts(texts\u001b[39m=\u001b[39mtexts, metadatas\u001b[39m=\u001b[39mmetadatas, ids\u001b[39m=\u001b[39mids)\n\u001b[0;32m    382\u001b[0m     \u001b[39mreturn\u001b[39;00m chroma_collection\n",
      "File \u001b[1;32mc:\\Users\\af_is\\miniconda3\\envs\\langchain\\lib\\site-packages\\langchain\\vectorstores\\chroma.py:88\u001b[0m, in \u001b[0;36mChroma.__init__\u001b[1;34m(self, collection_name, embedding_function, persist_directory, client_settings, collection_metadata, client)\u001b[0m\n\u001b[0;32m     83\u001b[0m         \u001b[39mif\u001b[39;00m persist_directory \u001b[39mis\u001b[39;00m \u001b[39mnot\u001b[39;00m \u001b[39mNone\u001b[39;00m:\n\u001b[0;32m     84\u001b[0m             \u001b[39mself\u001b[39m\u001b[39m.\u001b[39m_client_settings \u001b[39m=\u001b[39m chromadb\u001b[39m.\u001b[39mconfig\u001b[39m.\u001b[39mSettings(\n\u001b[0;32m     85\u001b[0m                 chroma_db_impl\u001b[39m=\u001b[39m\u001b[39m\"\u001b[39m\u001b[39mduckdb+parquet\u001b[39m\u001b[39m\"\u001b[39m,\n\u001b[0;32m     86\u001b[0m                 persist_directory\u001b[39m=\u001b[39mpersist_directory,\n\u001b[0;32m     87\u001b[0m             )\n\u001b[1;32m---> 88\u001b[0m     \u001b[39mself\u001b[39m\u001b[39m.\u001b[39m_client \u001b[39m=\u001b[39m chromadb\u001b[39m.\u001b[39;49mClient(\u001b[39mself\u001b[39;49m\u001b[39m.\u001b[39;49m_client_settings)\n\u001b[0;32m     90\u001b[0m \u001b[39mself\u001b[39m\u001b[39m.\u001b[39m_embedding_function \u001b[39m=\u001b[39m embedding_function\n\u001b[0;32m     91\u001b[0m \u001b[39mself\u001b[39m\u001b[39m.\u001b[39m_persist_directory \u001b[39m=\u001b[39m persist_directory\n",
      "File \u001b[1;32mc:\\Users\\af_is\\miniconda3\\envs\\langchain\\lib\\site-packages\\chromadb\\__init__.py:89\u001b[0m, in \u001b[0;36mClient\u001b[1;34m(settings)\u001b[0m\n\u001b[0;32m     87\u001b[0m \u001b[39melif\u001b[39;00m setting \u001b[39m==\u001b[39m \u001b[39m\"\u001b[39m\u001b[39mlocal\u001b[39m\u001b[39m\"\u001b[39m:\n\u001b[0;32m     88\u001b[0m     logger\u001b[39m.\u001b[39minfo(\u001b[39m\"\u001b[39m\u001b[39mRunning Chroma using direct local API.\u001b[39m\u001b[39m\"\u001b[39m)\n\u001b[1;32m---> 89\u001b[0m     \u001b[39mimport\u001b[39;00m \u001b[39mchromadb\u001b[39;00m\u001b[39m.\u001b[39;00m\u001b[39mapi\u001b[39;00m\u001b[39m.\u001b[39;00m\u001b[39mlocal\u001b[39;00m\n\u001b[0;32m     91\u001b[0m     \u001b[39mreturn\u001b[39;00m chromadb\u001b[39m.\u001b[39mapi\u001b[39m.\u001b[39mlocal\u001b[39m.\u001b[39mLocalAPI(settings, get_db(settings), telemetry_client)\n\u001b[0;32m     92\u001b[0m \u001b[39melse\u001b[39;00m:\n",
      "File \u001b[1;32mc:\\Users\\af_is\\miniconda3\\envs\\langchain\\lib\\site-packages\\chromadb\\api\\__init__.py:3\u001b[0m\n\u001b[0;32m      1\u001b[0m \u001b[39mfrom\u001b[39;00m \u001b[39mabc\u001b[39;00m \u001b[39mimport\u001b[39;00m ABC, abstractmethod\n\u001b[0;32m      2\u001b[0m \u001b[39mfrom\u001b[39;00m \u001b[39mtyping\u001b[39;00m \u001b[39mimport\u001b[39;00m Callable, Union, Sequence, Optional, Dict\n\u001b[1;32m----> 3\u001b[0m \u001b[39mimport\u001b[39;00m \u001b[39mpandas\u001b[39;00m \u001b[39mas\u001b[39;00m \u001b[39mpd\u001b[39;00m\n\u001b[0;32m      4\u001b[0m \u001b[39mfrom\u001b[39;00m \u001b[39mchromadb\u001b[39;00m\u001b[39m.\u001b[39;00m\u001b[39mapi\u001b[39;00m\u001b[39m.\u001b[39;00m\u001b[39mmodels\u001b[39;00m\u001b[39m.\u001b[39;00m\u001b[39mCollection\u001b[39;00m \u001b[39mimport\u001b[39;00m Collection\n\u001b[0;32m      5\u001b[0m \u001b[39mfrom\u001b[39;00m \u001b[39mchromadb\u001b[39;00m\u001b[39m.\u001b[39;00m\u001b[39mapi\u001b[39;00m\u001b[39m.\u001b[39;00m\u001b[39mtypes\u001b[39;00m \u001b[39mimport\u001b[39;00m (\n\u001b[0;32m      6\u001b[0m     Documents,\n\u001b[0;32m      7\u001b[0m     Embeddings,\n\u001b[1;32m   (...)\u001b[0m\n\u001b[0;32m     14\u001b[0m     WhereDocument,\n\u001b[0;32m     15\u001b[0m )\n",
      "File \u001b[1;32mc:\\Users\\af_is\\miniconda3\\envs\\langchain\\lib\\site-packages\\pandas\\__init__.py:51\u001b[0m\n\u001b[0;32m     48\u001b[0m \u001b[39m# let init-time option registration happen\u001b[39;00m\n\u001b[0;32m     49\u001b[0m \u001b[39mimport\u001b[39;00m \u001b[39mpandas\u001b[39;00m\u001b[39m.\u001b[39;00m\u001b[39mcore\u001b[39;00m\u001b[39m.\u001b[39;00m\u001b[39mconfig_init\u001b[39;00m\n\u001b[1;32m---> 51\u001b[0m \u001b[39mfrom\u001b[39;00m \u001b[39mpandas\u001b[39;00m\u001b[39m.\u001b[39;00m\u001b[39mcore\u001b[39;00m\u001b[39m.\u001b[39;00m\u001b[39mapi\u001b[39;00m \u001b[39mimport\u001b[39;00m (\n\u001b[0;32m     52\u001b[0m     \u001b[39m# dtype\u001b[39;00m\n\u001b[0;32m     53\u001b[0m     Int8Dtype,\n\u001b[0;32m     54\u001b[0m     Int16Dtype,\n\u001b[0;32m     55\u001b[0m     Int32Dtype,\n\u001b[0;32m     56\u001b[0m     Int64Dtype,\n\u001b[0;32m     57\u001b[0m     UInt8Dtype,\n\u001b[0;32m     58\u001b[0m     UInt16Dtype,\n\u001b[0;32m     59\u001b[0m     UInt32Dtype,\n\u001b[0;32m     60\u001b[0m     UInt64Dtype,\n\u001b[0;32m     61\u001b[0m     Float32Dtype,\n\u001b[0;32m     62\u001b[0m     Float64Dtype,\n\u001b[0;32m     63\u001b[0m     CategoricalDtype,\n\u001b[0;32m     64\u001b[0m     PeriodDtype,\n\u001b[0;32m     65\u001b[0m     IntervalDtype,\n\u001b[0;32m     66\u001b[0m     DatetimeTZDtype,\n\u001b[0;32m     67\u001b[0m     StringDtype,\n\u001b[0;32m     68\u001b[0m     BooleanDtype,\n\u001b[0;32m     69\u001b[0m     \u001b[39m# missing\u001b[39;00m\n\u001b[0;32m     70\u001b[0m     NA,\n\u001b[0;32m     71\u001b[0m     isna,\n\u001b[0;32m     72\u001b[0m     isnull,\n\u001b[0;32m     73\u001b[0m     notna,\n\u001b[0;32m     74\u001b[0m     notnull,\n\u001b[0;32m     75\u001b[0m     \u001b[39m# indexes\u001b[39;00m\n\u001b[0;32m     76\u001b[0m     Index,\n\u001b[0;32m     77\u001b[0m     CategoricalIndex,\n\u001b[0;32m     78\u001b[0m     Int64Index,\n\u001b[0;32m     79\u001b[0m     UInt64Index,\n\u001b[0;32m     80\u001b[0m     RangeIndex,\n\u001b[0;32m     81\u001b[0m     Float64Index,\n\u001b[0;32m     82\u001b[0m     MultiIndex,\n\u001b[0;32m     83\u001b[0m     IntervalIndex,\n\u001b[0;32m     84\u001b[0m     TimedeltaIndex,\n\u001b[0;32m     85\u001b[0m     DatetimeIndex,\n\u001b[0;32m     86\u001b[0m     PeriodIndex,\n\u001b[0;32m     87\u001b[0m     IndexSlice,\n\u001b[0;32m     88\u001b[0m     \u001b[39m# tseries\u001b[39;00m\n\u001b[0;32m     89\u001b[0m     NaT,\n\u001b[0;32m     90\u001b[0m     Period,\n\u001b[0;32m     91\u001b[0m     period_range,\n\u001b[0;32m     92\u001b[0m     Timedelta,\n\u001b[0;32m     93\u001b[0m     timedelta_range,\n\u001b[0;32m     94\u001b[0m     Timestamp,\n\u001b[0;32m     95\u001b[0m     date_range,\n\u001b[0;32m     96\u001b[0m     bdate_range,\n\u001b[0;32m     97\u001b[0m     Interval,\n\u001b[0;32m     98\u001b[0m     interval_range,\n\u001b[0;32m     99\u001b[0m     DateOffset,\n\u001b[0;32m    100\u001b[0m     \u001b[39m# conversion\u001b[39;00m\n\u001b[0;32m    101\u001b[0m     to_numeric,\n\u001b[0;32m    102\u001b[0m     to_datetime,\n\u001b[0;32m    103\u001b[0m     to_timedelta,\n\u001b[0;32m    104\u001b[0m     \u001b[39m# misc\u001b[39;00m\n\u001b[0;32m    105\u001b[0m     Flags,\n\u001b[0;32m    106\u001b[0m     Grouper,\n\u001b[0;32m    107\u001b[0m     factorize,\n\u001b[0;32m    108\u001b[0m     unique,\n\u001b[0;32m    109\u001b[0m     value_counts,\n\u001b[0;32m    110\u001b[0m     NamedAgg,\n\u001b[0;32m    111\u001b[0m     array,\n\u001b[0;32m    112\u001b[0m     Categorical,\n\u001b[0;32m    113\u001b[0m     set_eng_float_format,\n\u001b[0;32m    114\u001b[0m     Series,\n\u001b[0;32m    115\u001b[0m     DataFrame,\n\u001b[0;32m    116\u001b[0m )\n\u001b[0;32m    118\u001b[0m \u001b[39mfrom\u001b[39;00m \u001b[39mpandas\u001b[39;00m\u001b[39m.\u001b[39;00m\u001b[39mcore\u001b[39;00m\u001b[39m.\u001b[39;00m\u001b[39marrays\u001b[39;00m\u001b[39m.\u001b[39;00m\u001b[39msparse\u001b[39;00m \u001b[39mimport\u001b[39;00m SparseDtype\n\u001b[0;32m    120\u001b[0m \u001b[39mfrom\u001b[39;00m \u001b[39mpandas\u001b[39;00m\u001b[39m.\u001b[39;00m\u001b[39mtseries\u001b[39;00m\u001b[39m.\u001b[39;00m\u001b[39mapi\u001b[39;00m \u001b[39mimport\u001b[39;00m infer_freq\n",
      "File \u001b[1;32mc:\\Users\\af_is\\miniconda3\\envs\\langchain\\lib\\site-packages\\pandas\\core\\api.py:15\u001b[0m\n\u001b[0;32m     12\u001b[0m \u001b[39mfrom\u001b[39;00m \u001b[39mpandas\u001b[39;00m\u001b[39m.\u001b[39;00m\u001b[39mcore\u001b[39;00m\u001b[39m.\u001b[39;00m\u001b[39mdtypes\u001b[39;00m\u001b[39m.\u001b[39;00m\u001b[39mmissing\u001b[39;00m \u001b[39mimport\u001b[39;00m isna, isnull, notna, notnull\n\u001b[0;32m     14\u001b[0m \u001b[39mfrom\u001b[39;00m \u001b[39mpandas\u001b[39;00m\u001b[39m.\u001b[39;00m\u001b[39mcore\u001b[39;00m\u001b[39m.\u001b[39;00m\u001b[39malgorithms\u001b[39;00m \u001b[39mimport\u001b[39;00m factorize, unique, value_counts\n\u001b[1;32m---> 15\u001b[0m \u001b[39mfrom\u001b[39;00m \u001b[39mpandas\u001b[39;00m\u001b[39m.\u001b[39;00m\u001b[39mcore\u001b[39;00m\u001b[39m.\u001b[39;00m\u001b[39marrays\u001b[39;00m \u001b[39mimport\u001b[39;00m Categorical\n\u001b[0;32m     16\u001b[0m \u001b[39mfrom\u001b[39;00m \u001b[39mpandas\u001b[39;00m\u001b[39m.\u001b[39;00m\u001b[39mcore\u001b[39;00m\u001b[39m.\u001b[39;00m\u001b[39marrays\u001b[39;00m\u001b[39m.\u001b[39;00m\u001b[39mboolean\u001b[39;00m \u001b[39mimport\u001b[39;00m BooleanDtype\n\u001b[0;32m     17\u001b[0m \u001b[39mfrom\u001b[39;00m \u001b[39mpandas\u001b[39;00m\u001b[39m.\u001b[39;00m\u001b[39mcore\u001b[39;00m\u001b[39m.\u001b[39;00m\u001b[39marrays\u001b[39;00m\u001b[39m.\u001b[39;00m\u001b[39mfloating\u001b[39;00m \u001b[39mimport\u001b[39;00m Float32Dtype, Float64Dtype\n",
      "File \u001b[1;32mc:\\Users\\af_is\\miniconda3\\envs\\langchain\\lib\\site-packages\\pandas\\core\\arrays\\__init__.py:7\u001b[0m\n\u001b[0;32m      1\u001b[0m \u001b[39mfrom\u001b[39;00m \u001b[39mpandas\u001b[39;00m\u001b[39m.\u001b[39;00m\u001b[39mcore\u001b[39;00m\u001b[39m.\u001b[39;00m\u001b[39marrays\u001b[39;00m\u001b[39m.\u001b[39;00m\u001b[39mbase\u001b[39;00m \u001b[39mimport\u001b[39;00m (\n\u001b[0;32m      2\u001b[0m     ExtensionArray,\n\u001b[0;32m      3\u001b[0m     ExtensionOpsMixin,\n\u001b[0;32m      4\u001b[0m     ExtensionScalarOpsMixin,\n\u001b[0;32m      5\u001b[0m )\n\u001b[0;32m      6\u001b[0m \u001b[39mfrom\u001b[39;00m \u001b[39mpandas\u001b[39;00m\u001b[39m.\u001b[39;00m\u001b[39mcore\u001b[39;00m\u001b[39m.\u001b[39;00m\u001b[39marrays\u001b[39;00m\u001b[39m.\u001b[39;00m\u001b[39mboolean\u001b[39;00m \u001b[39mimport\u001b[39;00m BooleanArray\n\u001b[1;32m----> 7\u001b[0m \u001b[39mfrom\u001b[39;00m \u001b[39mpandas\u001b[39;00m\u001b[39m.\u001b[39;00m\u001b[39mcore\u001b[39;00m\u001b[39m.\u001b[39;00m\u001b[39marrays\u001b[39;00m\u001b[39m.\u001b[39;00m\u001b[39mcategorical\u001b[39;00m \u001b[39mimport\u001b[39;00m Categorical\n\u001b[0;32m      8\u001b[0m \u001b[39mfrom\u001b[39;00m \u001b[39mpandas\u001b[39;00m\u001b[39m.\u001b[39;00m\u001b[39mcore\u001b[39;00m\u001b[39m.\u001b[39;00m\u001b[39marrays\u001b[39;00m\u001b[39m.\u001b[39;00m\u001b[39mdatetimes\u001b[39;00m \u001b[39mimport\u001b[39;00m DatetimeArray\n\u001b[0;32m      9\u001b[0m \u001b[39mfrom\u001b[39;00m \u001b[39mpandas\u001b[39;00m\u001b[39m.\u001b[39;00m\u001b[39mcore\u001b[39;00m\u001b[39m.\u001b[39;00m\u001b[39marrays\u001b[39;00m\u001b[39m.\u001b[39;00m\u001b[39mfloating\u001b[39;00m \u001b[39mimport\u001b[39;00m FloatingArray\n",
      "File \u001b[1;32mc:\\Users\\af_is\\miniconda3\\envs\\langchain\\lib\\site-packages\\pandas\\core\\arrays\\categorical.py:52\u001b[0m\n\u001b[0;32m     50\u001b[0m \u001b[39mimport\u001b[39;00m \u001b[39mpandas\u001b[39;00m\u001b[39m.\u001b[39;00m\u001b[39mcore\u001b[39;00m\u001b[39m.\u001b[39;00m\u001b[39mcommon\u001b[39;00m \u001b[39mas\u001b[39;00m \u001b[39mcom\u001b[39;00m\n\u001b[0;32m     51\u001b[0m \u001b[39mfrom\u001b[39;00m \u001b[39mpandas\u001b[39;00m\u001b[39m.\u001b[39;00m\u001b[39mcore\u001b[39;00m\u001b[39m.\u001b[39;00m\u001b[39mconstruction\u001b[39;00m \u001b[39mimport\u001b[39;00m array, extract_array, sanitize_array\n\u001b[1;32m---> 52\u001b[0m \u001b[39mfrom\u001b[39;00m \u001b[39mpandas\u001b[39;00m\u001b[39m.\u001b[39;00m\u001b[39mcore\u001b[39;00m\u001b[39m.\u001b[39;00m\u001b[39mindexers\u001b[39;00m \u001b[39mimport\u001b[39;00m deprecate_ndim_indexing\n\u001b[0;32m     53\u001b[0m \u001b[39mfrom\u001b[39;00m \u001b[39mpandas\u001b[39;00m\u001b[39m.\u001b[39;00m\u001b[39mcore\u001b[39;00m\u001b[39m.\u001b[39;00m\u001b[39mmissing\u001b[39;00m \u001b[39mimport\u001b[39;00m interpolate_2d\n\u001b[0;32m     54\u001b[0m \u001b[39mfrom\u001b[39;00m \u001b[39mpandas\u001b[39;00m\u001b[39m.\u001b[39;00m\u001b[39mcore\u001b[39;00m\u001b[39m.\u001b[39;00m\u001b[39mops\u001b[39;00m\u001b[39m.\u001b[39;00m\u001b[39mcommon\u001b[39;00m \u001b[39mimport\u001b[39;00m unpack_zerodim_and_defer\n",
      "\u001b[1;31mImportError\u001b[0m: cannot import name 'deprecate_ndim_indexing' from 'pandas.core.indexers' (c:\\Users\\af_is\\miniconda3\\envs\\langchain\\lib\\site-packages\\pandas\\core\\indexers\\__init__.py)"
     ]
    }
   ],
   "source": [
    "from langchain.embeddings.openai import OpenAIEmbeddings\n",
    "from langchain.vectorstores import Chroma\n",
    "embeddings = OpenAIEmbeddings()\n",
    "vectorstore = Chroma.from_texts(texts = texts, embedding=embeddings)"
   ]
  },
  {
   "cell_type": "code",
   "execution_count": 10,
   "metadata": {},
   "outputs": [],
   "source": [
    "from langchain.memory import ConversationBufferMemory\n",
    "memory = ConversationBufferMemory(memory_key=\"chat_history\", return_messages=True)"
   ]
  },
  {
   "cell_type": "code",
   "execution_count": null,
   "metadata": {},
   "outputs": [],
   "source": [
    "from langchain.chains import ConversationalRetrievalChain\n",
    "from langchain.llms import OpenAI\n",
    "qa = ConversationalRetrievalChain.from_llm(OpenAI(temperature=0), vectorstore.as_retriever(), memory=memory)"
   ]
  },
  {
   "cell_type": "code",
   "execution_count": null,
   "metadata": {},
   "outputs": [],
   "source": [
    "query = \"Please provide a summary of all the articles.\"\n",
    "result = qa({\"question\": query})\n",
    "result[\"answer\"]"
   ]
  },
  {
   "cell_type": "code",
   "execution_count": null,
   "metadata": {},
   "outputs": [],
   "source": [
    "query = \"\"\"\n",
    "You are given the content of an html file. It has an unstructured list of anchor tags which are of interest. You are to extract and convert the anchors into a json object. The json object should have the following structure: { 'The text of the anchor': 'The href of the anchor' }.  \n",
    "\n",
    "For example, given the following html:\n",
    "\n",
    "``` html \n",
    "<DL>\n",
    "    <p>\n",
    "        <DT><A HREF=\"https://fs.blog/mental-models/\" ADD_DATE=\"1617029266\"\n",
    "                ICON=\"data:image/png;base64,iVBORw0KGgoAAAANSUhEUgAAABAAAAAQCAYAAAAf8..=\">Mental\n",
    "                Models: The Best Way to Make Intelligent Decisions (109 Models\n",
    "                Explained)</A>\n",
    "        <DT><A HREF=\"https://fs.blog/2015/07/regression-to-the-mean/\"\n",
    "                ADD_DATE=\"1617029266\"\n",
    "                ICON=\"data:image/png;base64,iVBORw0KGgoAAAANSUhEUgAAABAAAAAQCAYAAAAf8..=\">Regression\n",
    "                Toward the Mean: An Introduction with Examples</A>\n",
    "        <DT><A HREF=\"https://fs.blog/2015/11/map-and-territory/\"\n",
    "                ADD_DATE=\"1617029266\"\n",
    "                ICON=\"data:image/png;base64,iVBORw0KGgoAAAANSUhEUgAAABAAAAAQCAYAAAAf8..=\">The\n",
    "                Map Is Not the Territory</A>\n",
    "</DL>\n",
    "```\n",
    "\n",
    "The json object should be:\n",
    "```json\n",
    "{\n",
    "    'Mental Models: The Best Way to Make Intelligent Decisions (109 Models Explained)' : 'https://fs.blog/mental-models/',\n",
    "    'Regression Toward the Mean: An Introduction with Examples' : 'https://fs.blog/2015/07/regression-to-the-mean/',\n",
    "    'The Map Is Not the Territory' : 'https://fs.blog/2015/11/map-and-territory/'\n",
    "}\n",
    "```\n",
    "\n",
    "As a test, please do so the 10 anchors. If you pass the test, I will response with continue.\n",
    "\n",
    "\"\"\"\n",
    "query_bookmarks_file(query)"
   ]
  },
  {
   "cell_type": "code",
   "execution_count": null,
   "metadata": {},
   "outputs": [],
   "source": [
    "# chain = SimpleSequentialChain(chains=[query_bookmarks_file], verbose=True)\n",
    "# # chain.add_chain(query_bookmarks_file)\n",
    "\n",
    "# # chain.run(query)\n",
    "\n",
    "# # generate output\n",
    "# output = chain.generate_output()\n",
    "\n",
    "# # write output to file\n",
    "# with open(\"output.json\", \"w\") as f:\n",
    "#     chain.write_output_to_file(output, f)"
   ]
  }
 ],
 "metadata": {
  "kernelspec": {
   "display_name": "langchain",
   "language": "python",
   "name": "python3"
  },
  "language_info": {
   "codemirror_mode": {
    "name": "ipython",
    "version": 3
   },
   "file_extension": ".py",
   "mimetype": "text/x-python",
   "name": "python",
   "nbconvert_exporter": "python",
   "pygments_lexer": "ipython3",
   "version": "3.9.16"
  },
  "orig_nbformat": 4
 },
 "nbformat": 4,
 "nbformat_minor": 2
}
