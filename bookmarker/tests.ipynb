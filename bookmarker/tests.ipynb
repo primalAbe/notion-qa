{
 "cells": [
  {
   "cell_type": "code",
   "execution_count": 1,
   "metadata": {},
   "outputs": [],
   "source": [
    "import os\n",
    "\n",
    "os.environ[\"OPENAI_API_KEY\"] = '[OPENAI_API_KEY]'"
   ]
  },
  {
   "cell_type": "code",
   "execution_count": 2,
   "metadata": {},
   "outputs": [],
   "source": [
    "# !conda install unstructured\n",
    "from langchain.document_loaders import TextLoader\n",
    "markdown_path = \"./notion_bookmarks/bookmarks.md\"\n",
    "loader = TextLoader(markdown_path, encoding='utf-8')\n",
    "document = loader.load()"
   ]
  },
  {
   "cell_type": "code",
   "execution_count": null,
   "metadata": {},
   "outputs": [],
   "source": [
    "from langchain.text_splitter import CharacterTextSplitter\n",
    "\n",
    "text_splitter = CharacterTextSplitter(chunk_size=100, chunk_overlap=0)\n",
    "texts = text_splitter.split_documents(document)\n",
    "# texts\n",
    "# dir(texts[0].page_content)\n",
    "# texts[0].page_content"
   ]
  },
  {
   "cell_type": "code",
   "execution_count": 4,
   "metadata": {},
   "outputs": [],
   "source": [
    "from langchain.embeddings.openai import OpenAIEmbeddings\n",
    "\n",
    "embeddings = OpenAIEmbeddings()\n",
    "\n",
    "# embeddings"
   ]
  },
  {
   "cell_type": "code",
   "execution_count": 5,
   "metadata": {},
   "outputs": [
    {
     "name": "stderr",
     "output_type": "stream",
     "text": [
      "Using embedded DuckDB with persistence: data will be stored in: ./db/\n"
     ]
    }
   ],
   "source": [
    "from langchain.vectorstores import Chroma\n",
    "\n",
    "db = Chroma.from_documents(texts, embeddings, persist_directory=\"./db/\")\n",
    "# db\n",
    "\n",
    "# query = \"property and crypto currency\"\n",
    "# docs = db.similarity_search(query, k=4)\n",
    "# docs"
   ]
  },
  {
   "cell_type": "code",
   "execution_count": 6,
   "metadata": {},
   "outputs": [],
   "source": [
    "retriever = db.as_retriever()\n",
    "# retriever.search_kwargs['distance_metric'] = 'cos'\n",
    "# retriever.search_kwargs['fetch_k'] = 20\n",
    "# retriever.search_kwargs['maximal_marginal_relevance'] = True\n",
    "# retriever.search_kwargs['k'] = 20"
   ]
  },
  {
   "cell_type": "code",
   "execution_count": 7,
   "metadata": {},
   "outputs": [],
   "source": [
    "from langchain.chat_models import ChatOpenAI\n",
    "from langchain.chains import ConversationalRetrievalChain\n",
    "\n",
    "model = ChatOpenAI(model_name='gpt-3.5-turbo') # 'ada' 'gpt-3.5-turbo' 'gpt-4',\n",
    "qa = ConversationalRetrievalChain.from_llm(model, retriever=retriever)"
   ]
  },
  {
   "cell_type": "code",
   "execution_count": 10,
   "metadata": {},
   "outputs": [
    {
     "name": "stdout",
     "output_type": "stream",
     "text": [
      "-> **Question**: Can you categorize the content into at least 6 categories? \n",
      "\n",
      "**Answer**: Based on the given context, I can categorize the content into two categories:\n",
      "1. Articles: It includes links to two articles - \"Distributed Systems Reading List\" and \"Catalog of Patterns of Enterprise Application Architecture\".\n",
      "2. Blog: It includes a link to \"Second Enumerations\" blog. \n",
      "\n",
      "-> **Question**: Of all the contenct, how many distinct urls are there? \n",
      "\n",
      "**Answer**: I'm sorry, but I cannot determine the number of distinct URLs included in the content without additional information. The pieces of context provided do not give a clear idea about the content or specific URLs. \n",
      "\n"
     ]
    }
   ],
   "source": [
    "questions = [\n",
    "    \"Can you categorize the content into at least 6 categories?\",\n",
    "    \"Of all the contenct, how many distinct urls are there?\",\n",
    "    # \"Show me the first 20 lines\",\n",
    "    # \"For those categories, may you provide examples of items that would fall under each category?\",\n",
    "    # \"What one improvement do you propose in code in relation to the class herarchy for the Chain class?\",\n",
    "] \n",
    "chat_history = []\n",
    "\n",
    "for question in questions:  \n",
    "    result = qa({\"question\": question, \"chat_history\": chat_history})\n",
    "    chat_history.append((question, result['answer']))\n",
    "    print(f\"-> **Question**: {question} \\n\")\n",
    "    print(f\"**Answer**: {result['answer']} \\n\")"
   ]
  },
  {
   "attachments": {},
   "cell_type": "markdown",
   "metadata": {},
   "source": [
    "Later"
   ]
  },
  {
   "attachments": {},
   "cell_type": "markdown",
   "metadata": {},
   "source": [
    "from langchain import OpenAI\n",
    "from langchain.chains.summarize import load_summarize_chain\n",
    "\n",
    "llm = OpenAI(temperature=0)\n",
    "summary_chain = load_summarize_chain(llm, chain_type=\"map_reduce\")"
   ]
  }
 ],
 "metadata": {
  "kernelspec": {
   "display_name": "langchain",
   "language": "python",
   "name": "python3"
  },
  "language_info": {
   "codemirror_mode": {
    "name": "ipython",
    "version": 3
   },
   "file_extension": ".py",
   "mimetype": "text/x-python",
   "name": "python",
   "nbconvert_exporter": "python",
   "pygments_lexer": "ipython3",
   "version": "3.9.16"
  },
  "orig_nbformat": 4
 },
 "nbformat": 4,
 "nbformat_minor": 2
}
